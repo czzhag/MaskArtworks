{
 "cells": [
  {
   "cell_type": "code",
   "execution_count": 1,
   "id": "73174b01",
   "metadata": {},
   "outputs": [
    {
     "name": "stdout",
     "output_type": "stream",
     "text": [
      "Output dir: /Users/bicep/Documents/DeviceDesign/MKID_fab/CITdesign/SUmodified\n"
     ]
    }
   ],
   "source": [
    "import os,sys\n",
    "import numpy as np\n",
    "import gdspy as gp\n",
    "import gdstools as tools\n",
    "ratio = 1\n",
    "lane = 300\n",
    "\n",
    "# When work with mask, make sure you put the cell center at it's box's geometry center, or put it somewhere reasonable and easy to remember. \n",
    "# The location of an object is controlled by `wafer.add(gp.CellReference(<cell name>,(X,Y)))`\n",
    "# Try to keep all geometry in the same layer in one sub-cell. Don't make the whole structure too messy.\n",
    "\n",
    "outdir = '/Users/bicep/Documents/DeviceDesign/MKID_fab/CITdesign/SUmodified'\n",
    "if not os.path.exists(outdir):\n",
    "    os.makedirs(outdir)\n",
    "print('Output dir: %s'%outdir)"
   ]
  },
  {
   "cell_type": "code",
   "execution_count": 2,
   "id": "926daed5",
   "metadata": {},
   "outputs": [
    {
     "name": "stderr",
     "output_type": "stream",
     "text": [
      "/var/folders/rn/l47h67f51194g8bjz60lqwlh0000gq/T/ipykernel_12295/428330438.py:6: DeprecationWarning: [GDSPY] extract and the use of the global library is deprecated.\n",
      "  wafer_sq = gl.extract('WAFER_sq')\n",
      "/var/folders/rn/l47h67f51194g8bjz60lqwlh0000gq/T/ipykernel_12295/428330438.py:11: DeprecationWarning: [GDSPY] extract and the use of the global library is deprecated.\n",
      "  wafer_sq_cpw = gl.extract('WAFER_sq_cpw')\n",
      "/var/folders/rn/l47h67f51194g8bjz60lqwlh0000gq/T/ipykernel_12295/428330438.py:15: DeprecationWarning: [GDSPY] extract and the use of the global library is deprecated.\n",
      "  wafer_slim = gl.extract('WAFER_slim')\n",
      "/var/folders/rn/l47h67f51194g8bjz60lqwlh0000gq/T/ipykernel_12295/428330438.py:20: DeprecationWarning: [GDSPY] extract and the use of the global library is deprecated.\n",
      "  wafer_slim_cpw = gl.extract('WAFER_slim_cpw')\n"
     ]
    }
   ],
   "source": [
    "# get kids and reference masks\n",
    "gdsii=gp.GdsLibrary()\n",
    "\n",
    "inputmask = '/Users/bicep/Documents/DeviceDesign/MKID_fab/CITdesign/SUmodified/nukid_shrink10000.gds' \n",
    "gl=gdsii.read_gds(inputmask, rename_template='{name}_sq')\n",
    "wafer_sq = gl.extract('WAFER_sq')\n",
    "bb_sq=wafer_sq.get_bounding_box()\n",
    "\n",
    "inputmask = '/Users/bicep/Documents/DeviceDesign/MKID_fab/CITdesign/SUmodified/nukid_shrink10000_cpw.gds' \n",
    "gl=gdsii.read_gds(inputmask, rename_template='{name}_sq_cpw')\n",
    "wafer_sq_cpw = gl.extract('WAFER_sq_cpw')\n",
    "\n",
    "inputmask = '/Users/bicep/Documents/DeviceDesign/MKID_fab/CITdesign/SUmodified/slim_nuKid_2.gds' \n",
    "gl=gdsii.read_gds(inputmask, rename_template='{name}_slim')\n",
    "wafer_slim = gl.extract('WAFER_slim')\n",
    "bb_slim=wafer_slim.get_bounding_box()\n",
    "\n",
    "inputmask = '/Users/bicep/Documents/DeviceDesign/MKID_fab/CITdesign/SUmodified/slim_nuKid_no_kids.gds' \n",
    "gl=gdsii.read_gds(inputmask, rename_template='{name}_slim_cpw')\n",
    "wafer_slim_cpw = gl.extract('WAFER_slim_cpw')\n",
    "\n",
    "inputmask = '/Users/bicep/Documents/DeviceDesign/MKID_fab/CITdesign/SUmodified/dicealign_ref/HVeV_v3_Mask_mk16.gds'\n",
    "gl=gdsii.read_gds(inputmask)\n"
   ]
  },
  {
   "cell_type": "code",
   "execution_count": 3,
   "id": "3228682a",
   "metadata": {},
   "outputs": [
    {
     "name": "stderr",
     "output_type": "stream",
     "text": [
      "/var/folders/rn/l47h67f51194g8bjz60lqwlh0000gq/T/ipykernel_12295/1534887706.py:37: DeprecationWarning: [GDSPY] PolyPath is deprecated favor of FlexPath and will be removed in a future version of Gdspy.\n",
      "  maskbase_pp = gp.PolyPath([(x-dx,y), (x,y)], 4, layer=baselayer)\n",
      "/var/folders/rn/l47h67f51194g8bjz60lqwlh0000gq/T/ipykernel_12295/1534887706.py:39: DeprecationWarning: [GDSPY] PolyPath is deprecated favor of FlexPath and will be removed in a future version of Gdspy.\n",
      "  maskbase_pplane = gp.PolyPath([(x-dx,y), (x,y)], lane, layer=lanelayer)\n",
      "/var/folders/rn/l47h67f51194g8bjz60lqwlh0000gq/T/ipykernel_12295/1534887706.py:45: DeprecationWarning: [GDSPY] PolyPath is deprecated favor of FlexPath and will be removed in a future version of Gdspy.\n",
      "  maskbase_pp = gp.PolyPath([(x,y-dy), (x,y)], 4, layer=baselayer)\n",
      "/var/folders/rn/l47h67f51194g8bjz60lqwlh0000gq/T/ipykernel_12295/1534887706.py:47: DeprecationWarning: [GDSPY] PolyPath is deprecated favor of FlexPath and will be removed in a future version of Gdspy.\n",
      "  maskbase_pplane = gp.PolyPath([(x,y-dy), (x,y)], lane, layer=lanelayer)\n",
      "/var/folders/rn/l47h67f51194g8bjz60lqwlh0000gq/T/ipykernel_12295/1534887706.py:61: DeprecationWarning: [GDSPY] PolyPath is deprecated favor of FlexPath and will be removed in a future version of Gdspy.\n",
      "  maskbase_pp = gp.PolyPath([(x-dx,y), (x,y)], 4, layer=baselayer)\n",
      "/var/folders/rn/l47h67f51194g8bjz60lqwlh0000gq/T/ipykernel_12295/1534887706.py:63: DeprecationWarning: [GDSPY] PolyPath is deprecated favor of FlexPath and will be removed in a future version of Gdspy.\n",
      "  maskbase_pplane = gp.PolyPath([(x-dx,y), (x,y)], lane, layer=lanelayer)\n",
      "/var/folders/rn/l47h67f51194g8bjz60lqwlh0000gq/T/ipykernel_12295/1534887706.py:69: DeprecationWarning: [GDSPY] PolyPath is deprecated favor of FlexPath and will be removed in a future version of Gdspy.\n",
      "  maskbase_pp = gp.PolyPath([(x,y-dy), (x,y)], 4, layer=baselayer)\n",
      "/var/folders/rn/l47h67f51194g8bjz60lqwlh0000gq/T/ipykernel_12295/1534887706.py:71: DeprecationWarning: [GDSPY] PolyPath is deprecated favor of FlexPath and will be removed in a future version of Gdspy.\n",
      "  maskbase_pplane = gp.PolyPath([(x,y-dy), (x,y)], lane, layer=lanelayer)\n"
     ]
    }
   ],
   "source": [
    "# mask base --> the basic layout of the 4-inch wafer\n",
    "maskbase = gp.Cell('MASKBASE')\n",
    "baselayer = 3\n",
    "lanelayer = 0\n",
    "\n",
    "## outer frame\n",
    "parts=['ulc', 'urc', 'llc', 'lrc']\n",
    "\n",
    "for partname in parts:\n",
    "    # load the pre-saved points for drawing the polygon \n",
    "    maskbase_pts = np.genfromtxt('./polygonpts_maskbase_%s.txt'%partname)\n",
    "    # remove the void for devices won't appear on our current mask\n",
    "    unq, count = np.unique(maskbase_pts, axis=0, return_counts=True)\n",
    "    repeated_groups=unq[count>1]\n",
    "    for repeated_group in repeated_groups:\n",
    "        repeated_idx = np.argwhere(np.all(maskbase_pts == repeated_group, axis=1))\n",
    "        if repeated_idx.ravel().size==0:\n",
    "            continue\n",
    "        else:\n",
    "            maskbase_pts = np.delete(maskbase_pts, range(repeated_idx.ravel()[0],repeated_idx.ravel()[1]), axis=0)\n",
    "    # draw the polygon and add it to the mask\n",
    "    maskbase_pg  = gp.Polygon(maskbase_pts*ratio, layer=baselayer)\n",
    "    maskbase.add(maskbase_pg)\n",
    "    \n",
    "## dicing lanes\n",
    "dx=abs(bb_sq[0][0]-bb_sq[1][0]) + lane\n",
    "dy=abs(bb_sq[0][1]-bb_sq[1][1]) + lane\n",
    "\n",
    "for ix in range(1,5):\n",
    "    x = ix*dx\n",
    "    for iy in range(-4,5):\n",
    "        y = iy*dy\n",
    "        \n",
    "        if (abs(x)+abs(y)>61800) or (abs(x-dx)+abs(y)>61800) or (abs(x)>50000) or (abs(x-dx)>50000):\n",
    "            maskbase_pp = None\n",
    "        else:\n",
    "            maskbase_pp = gp.PolyPath([(x-dx,y), (x,y)], 4, layer=baselayer)\n",
    "            maskbase.add(maskbase_pp)\n",
    "            maskbase_pplane = gp.PolyPath([(x-dx,y), (x,y)], lane, layer=lanelayer)\n",
    "            maskbase.add(maskbase_pplane)\n",
    "            \n",
    "        if (abs(x)+abs(y)>61800) or (abs(x)+abs(y-dy)>61800) or (abs(y)>50000) or (abs(y-dy)>50000):\n",
    "            maskbase_pp = None\n",
    "        else:\n",
    "            maskbase_pp = gp.PolyPath([(x,y-dy), (x,y)], 4, layer=baselayer)\n",
    "            maskbase.add(maskbase_pp)\n",
    "            maskbase_pplane = gp.PolyPath([(x,y-dy), (x,y)], lane, layer=lanelayer)\n",
    "            maskbase.add(maskbase_pplane)\n",
    "        \n",
    "dx=abs(bb_slim[0][0]-bb_slim[1][0]) + lane\n",
    "dy=abs(bb_slim[0][1]-bb_slim[1][1]) + lane\n",
    "\n",
    "for ix in [0,-1,-2]:\n",
    "    x = ix*dx\n",
    "    for iy in range(-12,13):\n",
    "        y = iy*dy\n",
    "        \n",
    "        if (abs(x)>19800 and abs(y)>21300) or (abs(x)>39600) or (abs(y)>42600) or (abs(x-dx)>19800 and abs(y)>21300) or (abs(x-dx)>39600):\n",
    "            maskbase_pp = None\n",
    "        else:\n",
    "            maskbase_pp = gp.PolyPath([(x-dx,y), (x,y)], 4, layer=baselayer)\n",
    "            maskbase.add(maskbase_pp)\n",
    "            maskbase_pplane = gp.PolyPath([(x-dx,y), (x,y)], lane, layer=lanelayer)\n",
    "            maskbase.add(maskbase_pplane)\n",
    "        \n",
    "        if (abs(x)>19800 and abs(y)>21300) or (abs(x)>39600) or (abs(y)>42600) or (abs(x)>19800 and abs(y-dy)>21300) or (abs(y-dy)>42600):\n",
    "            maskbase_pp = None\n",
    "        else:\n",
    "            maskbase_pp = gp.PolyPath([(x,y-dy), (x,y)], 4, layer=baselayer)\n",
    "            maskbase.add(maskbase_pp)\n",
    "            maskbase_pplane = gp.PolyPath([(x,y-dy), (x,y)], lane, layer=lanelayer)\n",
    "            maskbase.add(maskbase_pplane)\n",
    "        "
   ]
  },
  {
   "cell_type": "code",
   "execution_count": 4,
   "id": "2ea65a86",
   "metadata": {},
   "outputs": [
    {
     "name": "stderr",
     "output_type": "stream",
     "text": [
      "/var/folders/rn/l47h67f51194g8bjz60lqwlh0000gq/T/ipykernel_12295/976400584.py:2: DeprecationWarning: [GDSPY] extract and the use of the global library is deprecated.\n",
      "  alignmarks=gl.extract('Alignment_Marks').flatten()\n"
     ]
    },
    {
     "data": {
      "text/plain": [
       "<gdspy.library.Cell at 0x7fe882290fa0>"
      ]
     },
     "execution_count": 4,
     "metadata": {},
     "output_type": "execute_result"
    }
   ],
   "source": [
    "# alignment marks\n",
    "alignmarks=gl.extract('Alignment_Marks').flatten()\n",
    "\n",
    "pgs = alignmarks.polygons\n",
    "for pg in pgs:\n",
    "    pg.scale(ratio,ratio)\n",
    "    \n",
    "maskbase.add(alignmarks)"
   ]
  },
  {
   "cell_type": "code",
   "execution_count": 5,
   "id": "39f4477d",
   "metadata": {},
   "outputs": [],
   "source": [
    "# final mask\n",
    "mask = gp.Cell('MASK')\n",
    "\n",
    "mask.add(gp.CellReference(maskbase,(0,0)))\n",
    "\n",
    "#NK=nukid, 2302=Feb2023, X=undefined date, CL/CQ=chip number slim/square\n",
    "serlayer=2\n",
    "ic = 0\n",
    "dx=abs(bb_sq[0][0]-bb_sq[1][0]) + lane\n",
    "dy=abs(bb_sq[0][1]-bb_sq[1][1]) + lane\n",
    "\n",
    "# square\n",
    "for ix in range(1,5):\n",
    "    x = (ix-0.5*ix/abs(ix)) * dx\n",
    "    for iy in range(-4,5):\n",
    "        if not iy:\n",
    "            continue\n",
    "        if abs(ix) + abs(iy)>6:\n",
    "            continue\n",
    "\n",
    "        y = (iy-0.5*iy/abs(iy)) * dy\n",
    "        \n",
    "        if (abs(ix)==1 and ix+iy==0) or (abs(ix)==3 and abs(iy)==3):\n",
    "            mask.add(gp.CellReference(wafer_sq_cpw,(x,y),x_reflection=(x>0),rotation=180*(x>0)))\n",
    "        else:\n",
    "            mask.add(gp.CellReference(wafer_sq,(x,y),x_reflection=(x>0),rotation=180*(x>0)))\n",
    "        ic +=1\n",
    "        text = gp.Text('NK2302XCQ%02d'%ic, 200, ((x-dx/2+1000), (y-dy/2+200)), layer=serlayer)\n",
    "        mask.add(text)\n",
    "\n",
    "\n",
    "ic = 0\n",
    "dx=abs(bb_slim[0][0]-bb_slim[1][0]) + lane\n",
    "dy=abs(bb_slim[0][1]-bb_slim[1][1]) + lane\n",
    "\n",
    "for ix in [-1,-2]:\n",
    "    x = (ix-0.5*ix/abs(ix)) * dx\n",
    "    \n",
    "    for iy in range(-12, 13):\n",
    "        if not iy:\n",
    "            continue\n",
    "        if (ix == -2) and (abs(iy) > 6):\n",
    "            continue\n",
    "        y = (iy-0.5*iy/abs(iy)) * dy\n",
    "        if (abs(ix)==1 and ix+iy==0) or (abs(ix)==2 and abs(iy)==6):\n",
    "            mask.add(gp.CellReference(wafer_slim_cpw,(x,y),x_reflection=(x>0),rotation=180*(x>0)))\n",
    "        else:\n",
    "            mask.add(gp.CellReference(wafer_slim,(x,y),x_reflection=(x>0),rotation=180*(x>0)))\n",
    "        ic +=1\n",
    "        text = gp.Text('NK2302XCL%02d'%ic, 200, ((x-dx/2+1000), (y-dy/2+200)), layer=serlayer)\n",
    "        mask.add(text)\n",
    "        \n",
    "#gp.write_gds('%s/nukid_NK2302X.gds'%outdir, cells=sorted(tools.GetSubcellNames(mask)))\n",
    "#gp.write_gds('%s/nukid_NK2302Xb.gds'%outdir, cells=sorted(tools.GetSubcellNames(mask)))\n",
    "gp.write_gds('%s/nukid_NK2302Xc.gds'%outdir, cells=sorted(tools.GetSubcellNames(mask)))"
   ]
  },
  {
   "cell_type": "code",
   "execution_count": null,
   "id": "78890bb5",
   "metadata": {},
   "outputs": [],
   "source": []
  }
 ],
 "metadata": {
  "kernelspec": {
   "display_name": "Python 3 (ipykernel)",
   "language": "python",
   "name": "python3"
  },
  "language_info": {
   "codemirror_mode": {
    "name": "ipython",
    "version": 3
   },
   "file_extension": ".py",
   "mimetype": "text/x-python",
   "name": "python",
   "nbconvert_exporter": "python",
   "pygments_lexer": "ipython3",
   "version": "3.9.12"
  }
 },
 "nbformat": 4,
 "nbformat_minor": 5
}
