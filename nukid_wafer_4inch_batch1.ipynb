{
 "cells": [
  {
   "cell_type": "code",
   "execution_count": 1,
   "id": "64fbb85e",
   "metadata": {},
   "outputs": [],
   "source": [
    "import os,sys\n",
    "import numpy as np\n",
    "import gdspy as gp\n",
    "import gdstools as tools\n",
    "ratio = 0.95\n",
    "\n",
    "# When work with mask, make sure you put the cell center at it's box's geometry center, or put it somewhere reasonable and easy to remember. \n",
    "# The location of an object is controlled by `wafer.add(gp.CellReference(<cell name>,(X,Y)))`\n",
    "# Try to keep all geometry in the same layer in one sub-cell. Don't make the whole structure too messy."
   ]
  },
  {
   "cell_type": "code",
   "execution_count": 2,
   "id": "5221461a",
   "metadata": {},
   "outputs": [
    {
     "name": "stdout",
     "output_type": "stream",
     "text": [
      "Input file: /Users/bicep/Documents/DeviceDesign/MKID_fab/CITdesign/SUmodified/dicealign_ref/HVeV_v3_Mask_mk16.gds\n",
      "Output dir: /Users/bicep/Documents/DeviceDesign/MKID_fab/CITdesign/SUmodified\n"
     ]
    }
   ],
   "source": [
    "inputmask = '/Users/bicep/Documents/DeviceDesign/MKID_fab/CITdesign/SUmodified/dicealign_ref/HVeV_v3_Mask_mk16.gds'\n",
    "print('Input file: %s'%inputmask)    \n",
    "\n",
    "outdir = '/Users/bicep/Documents/DeviceDesign/MKID_fab/CITdesign/SUmodified'\n",
    "if not os.path.exists(outdir):\n",
    "    os.makedirs(outdir)\n",
    "print('Output dir: %s'%outdir)"
   ]
  },
  {
   "cell_type": "code",
   "execution_count": 3,
   "id": "411570e9",
   "metadata": {},
   "outputs": [],
   "source": [
    "# Create a lib and load the original mask\n",
    "gdsii=gp.GdsLibrary()\n",
    "gl=gdsii.read_gds(inputmask)"
   ]
  },
  {
   "cell_type": "code",
   "execution_count": 4,
   "id": "3228682a",
   "metadata": {},
   "outputs": [
    {
     "name": "stderr",
     "output_type": "stream",
     "text": [
      "/var/folders/rn/l47h67f51194g8bjz60lqwlh0000gq/T/ipykernel_29719/1180552286.py:72: DeprecationWarning: [GDSPY] PolyPath is deprecated favor of FlexPath and will be removed in a future version of Gdspy.\n",
      "  maskbase_pp = gp.PolyPath([(line[0][0]*ratio, line[0][1]*ratio), (line[1][0]*ratio, line[1][1]*ratio)], 4, layer=baselayer)\n"
     ]
    }
   ],
   "source": [
    "# mask base --> the basic layout of the 4-inch wafer\n",
    "maskbase = gp.Cell('MASKBASE')\n",
    "baselayer = 3\n",
    "\n",
    "## outer frame\n",
    "parts=['ul', 'ur', 'll', 'lr']\n",
    "\n",
    "for partname in parts:\n",
    "    # load the pre-saved points for drawing the polygon \n",
    "    maskbase_pts = np.genfromtxt('./polygonpts_maskbase_%s.txt'%partname)\n",
    "    # remove the void for devices won't appear on our current mask\n",
    "    unq, count = np.unique(maskbase_pts, axis=0, return_counts=True)\n",
    "    repeated_groups=unq[count>1]\n",
    "    for repeated_group in repeated_groups:\n",
    "        repeated_idx = np.argwhere(np.all(maskbase_pts == repeated_group, axis=1))\n",
    "        if repeated_idx.ravel().size==0:\n",
    "            continue\n",
    "        else:\n",
    "            maskbase_pts = np.delete(maskbase_pts, range(repeated_idx.ravel()[0],repeated_idx.ravel()[1]), axis=0)\n",
    "    # draw the polygon and add it to the mask\n",
    "    maskbase_pg  = gp.Polygon(maskbase_pts*ratio, layer=baselayer)\n",
    "    maskbase.add(maskbase_pg)\n",
    "    \n",
    "## dicing lines\n",
    "lines = [\n",
    "    [(-33000.00000,33000.00000),(33000.00000,33000.00000)],\n",
    "    [(-44000.00000, 22000.00000),(44000.00000, 22000.00000)],\n",
    "    [(-42700.00000, 0.00000),(-13000.00000, 0.00000)],\n",
    "    [(-10600.00000, 0.00000),(-500.00000, 0.00000)],\n",
    "    [(500.00000, 0.00000),(10600.00000, 0.00000)],\n",
    "    [(42700.00000, 0.00000),(13000.00000, 0.00000)],\n",
    "    [(-44000.00000, -22000.00000),(44000.00000,-22000.00000)],\n",
    "    [(-33000.00000,-33000.00000),(33000.00000,-33000.00000)],\n",
    "    [(-22000.00000,44000.00000),(-22000.00000,-44000.00000)],\n",
    "    [(0.00000,43000.00000),(0.00000,13500.00000)],\n",
    "    [(0.00000,10060.00000),(0.00000,500.00000)],\n",
    "    [(0.00000,-500.00000),(0.00000,-10600.00000)],\n",
    "    [(0.00000,-43000.00000),(0.00000,-13500.00000)],\n",
    "    [(22000.00000,44000.00000),(22000.00000,-44000.00000)],\n",
    "\n",
    "    [(-44000.00000,11000.00000),(-500.00000,11000.00000)],\n",
    "    [(44000.00000,11000.00000),(500.00000,11000.00000)],\n",
    "    [(-44000.00000,-11000.00000),(-500.00000,-11000.00000)],\n",
    "    [(44000.00000,-11000.00000),(500.00000,-11000.00000)],\n",
    " \n",
    "    # mod\n",
    "    \n",
    "    [(-22000.00000,-38500.00000),(0,-38500.00000)],\n",
    "    [(-22000.00000,-27500.00000),(0,-27500.00000)],\n",
    "    [(-22000.00000,-16500.00000),(0,-16500.00000)],\n",
    "    [(-22000.00000,-5500.00000),(0.00000,-5500.00000)],\n",
    "    [(-22000.00000,5500.00000),(0.00000,5500.00000)],\n",
    "    [(-22000.00000,16500.00000),(0.00000,16500.00000)],\n",
    "    [(-22000.00000,27500.00000),(0.00000,27500.00000)],\n",
    "    [(-22000.00000,38500.00000),(0.00000,38500.00000)],\n",
    "    \n",
    "    [(44000.00000,5500.00000),(22000.00000,5500.00000)],\n",
    "    [(44000.00000,16500.00000),(22000.00000,16500.00000)],\n",
    "    [(44000.00000,-5500.00000),(22000.00000,-5500.00000)],\n",
    "    [(44000.00000,-16500.00000),(22000.00000,-16500.00000)],\n",
    "    \n",
    "    [(-33000.00000,-11000.00000),(-33000.00000,0.00000)],\n",
    "    [(-33000.00000,11000.00000),(-33000.00000,0.00000)],\n",
    "    [(-33000.00000,22000.00000),(-33000.00000,11000.00000)],\n",
    "    [(-33000.00000,-22000.00000),(-33000.00000,-11000.00000)],\n",
    "    \n",
    "    [(11000.00000,-44000.00000),(11000.00000,44000.00000)],\n",
    "]\n",
    "\n",
    "for line in lines:\n",
    "    \n",
    "    maskbase_pp = gp.PolyPath([(line[0][0]*ratio, line[0][1]*ratio), (line[1][0]*ratio, line[1][1]*ratio)], 4, layer=baselayer)\n",
    "    maskbase.add(maskbase_pp)"
   ]
  },
  {
   "cell_type": "code",
   "execution_count": 5,
   "id": "2ea65a86",
   "metadata": {},
   "outputs": [
    {
     "name": "stderr",
     "output_type": "stream",
     "text": [
      "/var/folders/rn/l47h67f51194g8bjz60lqwlh0000gq/T/ipykernel_29719/3039002318.py:2: DeprecationWarning: [GDSPY] extract and the use of the global library is deprecated.\n",
      "  alignmarks=gl.extract('Alignment_Marks').flatten()\n"
     ]
    },
    {
     "data": {
      "text/plain": [
       "<gdspy.library.Cell at 0x7fcaf8a2bf40>"
      ]
     },
     "execution_count": 5,
     "metadata": {},
     "output_type": "execute_result"
    }
   ],
   "source": [
    "# alignment marks\n",
    "alignmarks=gl.extract('Alignment_Marks').flatten()\n",
    "\n",
    "pgs = alignmarks.polygons\n",
    "for pg in pgs:\n",
    "    pg.scale(0.95,0.95)\n",
    "    \n",
    "maskbase.add(alignmarks)"
   ]
  },
  {
   "cell_type": "code",
   "execution_count": 6,
   "id": "998adb78",
   "metadata": {},
   "outputs": [
    {
     "name": "stderr",
     "output_type": "stream",
     "text": [
      "/var/folders/rn/l47h67f51194g8bjz60lqwlh0000gq/T/ipykernel_29719/3316403626.py:4: DeprecationWarning: [GDSPY] extract and the use of the global library is deprecated.\n",
      "  wafer_sq = gl.extract('WAFER_sq')\n",
      "/var/folders/rn/l47h67f51194g8bjz60lqwlh0000gq/T/ipykernel_29719/3316403626.py:8: DeprecationWarning: [GDSPY] extract and the use of the global library is deprecated.\n",
      "  wafer_slim = gl.extract('WAFER_slim')\n"
     ]
    }
   ],
   "source": [
    "# get kids\n",
    "inputmask = '/Users/bicep/Documents/DeviceDesign/MKID_fab/CITdesign/SUmodified/nukid_shrink10000.gds' \n",
    "gl=gdsii.read_gds(inputmask, rename_template='{name}_sq')\n",
    "wafer_sq = gl.extract('WAFER_sq')\n",
    "\n",
    "inputmask = '/Users/bicep/Documents/DeviceDesign/MKID_fab/CITdesign/SUmodified/slim_nuKid.gds' \n",
    "gl=gdsii.read_gds(inputmask, rename_template='{name}_slim')\n",
    "wafer_slim = gl.extract('WAFER_slim')\n",
    "\n"
   ]
  },
  {
   "cell_type": "code",
   "execution_count": 7,
   "id": "39f4477d",
   "metadata": {},
   "outputs": [],
   "source": [
    "# final mask\n",
    "mask = gp.Cell('MASK')\n",
    "\n",
    "mask.add(gp.CellReference(maskbase,(0,0)))\n",
    "\n",
    "#NK=nukid, 2302=Feb2023, X=undefined date, CL/CQ=chip number slim/square\n",
    "serlayer=2\n",
    "ic = 0\n",
    "\n",
    "# square\n",
    "for x in [-38500, -27500]:\n",
    "    for y in range(-16500, 27500, 11000):\n",
    "        mask.add(gp.CellReference(wafer_sq,(x*ratio,y*ratio),x_reflection=(x>0),rotation=180*(x>0)))\n",
    "        ic +=1\n",
    "        text = gp.Text('NK2302XCQ%02d'%ic, 200, ((x-5000)*ratio, (y-5000)*ratio), layer=serlayer)\n",
    "        mask.add(text)\n",
    "        \n",
    "for x in [5500, 16500]:\n",
    "    for y in range(-38500, 49500, 11000):\n",
    "        mask.add(gp.CellReference(wafer_sq,(x*ratio,y*ratio),x_reflection=(x>0),rotation=180*(x>0)))\n",
    "        ic +=1\n",
    "        text = gp.Text('NK2302XCQ%02d'%ic, 200, ((x-5000)*ratio, (y-5000)*ratio), layer=serlayer)\n",
    "        mask.add(text)\n",
    "        \n",
    "for x in [-27500, 27500]:\n",
    "    for y in [-27500, 27500]:\n",
    "        mask.add(gp.CellReference(wafer_sq,(x*ratio,y*ratio),x_reflection=(x>0),rotation=180*(x>0)))\n",
    "        ic +=1\n",
    "        text = gp.Text('NK2302XCQ%02d'%ic, 200, ((x-5000)*ratio, (y-5000)*ratio), layer=serlayer)\n",
    "        mask.add(text)\n",
    "\n",
    "ic = 0\n",
    "for x in [-11000]:\n",
    "    for y in range(-41250, 46750, 5500):\n",
    "        mask.add(gp.CellReference(wafer_slim,(x*ratio,y*ratio),x_reflection=(x>0),rotation=180*(x>0)))\n",
    "        ic +=1\n",
    "        text = gp.Text('NK2302XCL%02d'%ic, 200, ((x-10000)*ratio, (y-2000)*ratio), layer=serlayer)\n",
    "        mask.add(text)\n",
    "        \n",
    "for x in [33000]:\n",
    "    for y in range(-19250, 24750, 5500):\n",
    "        mask.add(gp.CellReference(wafer_slim,(x*ratio,y*ratio),x_reflection=(x>0),rotation=180*(x>0)))\n",
    "        ic +=1\n",
    "        text = gp.Text('NK2302XCL%02d'%ic, 200, ((x-10000)*ratio, (y-2000)*ratio), layer=serlayer)\n",
    "        mask.add(text)\n",
    "        \n",
    "#gp.write_gds('%s/nukid_NK2302X.gds'%outdir, cells=sorted(tools.GetSubcellNames(mask)))\n",
    "gp.write_gds('%s/nukid_NK2302Xb.gds'%outdir, cells=sorted(tools.GetSubcellNames(mask)))"
   ]
  },
  {
   "cell_type": "code",
   "execution_count": null,
   "id": "78890bb5",
   "metadata": {},
   "outputs": [],
   "source": []
  }
 ],
 "metadata": {
  "kernelspec": {
   "display_name": "Python 3 (ipykernel)",
   "language": "python",
   "name": "python3"
  },
  "language_info": {
   "codemirror_mode": {
    "name": "ipython",
    "version": 3
   },
   "file_extension": ".py",
   "mimetype": "text/x-python",
   "name": "python",
   "nbconvert_exporter": "python",
   "pygments_lexer": "ipython3",
   "version": "3.9.12"
  }
 },
 "nbformat": 4,
 "nbformat_minor": 5
}
