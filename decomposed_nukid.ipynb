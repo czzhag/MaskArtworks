{
 "cells": [
  {
   "cell_type": "code",
   "execution_count": 1,
   "id": "3f243092",
   "metadata": {},
   "outputs": [],
   "source": [
    "import os,sys\n",
    "import numpy as np\n",
    "import gdspy as gp\n",
    "import gdstools as tools\n",
    "\n",
    "# When work with mask, make sure you put the cell center at it's box's geometry center, or put it somewhere reasonable and easy to remember. \n",
    "# The location of an object is controlled by `wafer.add(gp.CellReference(<cell name>,(X,Y)))`\n",
    "# Try to keep all geometry in the same layer in one sub-cell. Don't make the whole structure too messy."
   ]
  },
  {
   "cell_type": "code",
   "execution_count": 2,
   "id": "0542699b",
   "metadata": {},
   "outputs": [
    {
     "name": "stdout",
     "output_type": "stream",
     "text": [
      "Input file: /Users/bicep/Documents/DeviceDesign/MKID_fab/CITdesign/nuKID.gds\n",
      "Output dir: /Users/bicep/Documents/DeviceDesign/MKID_fab/CITdesign/SUmodified/decomposed\n"
     ]
    }
   ],
   "source": [
    "# set up input/output paths\n",
    "\n",
    "inputmask = '/Users/bicep/Documents/DeviceDesign/MKID_fab/CITdesign/nuKID.gds'\n",
    "print('Input file: %s'%inputmask)    \n",
    "\n",
    "outdir = '/Users/bicep/Documents/DeviceDesign/MKID_fab/CITdesign/SUmodified/decomposed'\n",
    "if not os.path.exists(outdir):\n",
    "    os.makedirs(outdir)\n",
    "print('Output dir: %s'%outdir)\n"
   ]
  },
  {
   "cell_type": "code",
   "execution_count": 3,
   "id": "52f24c29",
   "metadata": {},
   "outputs": [
    {
     "name": "stderr",
     "output_type": "stream",
     "text": [
      "/var/folders/rn/l47h67f51194g8bjz60lqwlh0000gq/T/ipykernel_86332/2573161570.py:11: DeprecationWarning: [GDSPY] extract and the use of the global library is deprecated.\n",
      "  KID412al=gl.extract('KID412.0').flatten()\n",
      "/var/folders/rn/l47h67f51194g8bjz60lqwlh0000gq/T/ipykernel_86332/2573161570.py:19: DeprecationWarning: [GDSPY] extract and the use of the global library is deprecated.\n",
      "  capacitor412=gl.extract('CAPACITOR412.0').flatten()\n",
      "/var/folders/rn/l47h67f51194g8bjz60lqwlh0000gq/T/ipykernel_86332/2573161570.py:27: DeprecationWarning: [GDSPY] extract and the use of the global library is deprecated.\n",
      "  groundsheild412=gl.extract('GROUND_SHIELD_UUTPI')\n"
     ]
    },
    {
     "data": {
      "text/plain": [
       "True"
      ]
     },
     "execution_count": 3,
     "metadata": {},
     "output_type": "execute_result"
    }
   ],
   "source": [
    "# The Nb/Al KID (KID412.0 at center one)\n",
    "\n",
    "## Create a lib and load the original mask\n",
    "gdsii=gp.GdsLibrary()\n",
    "gl=gdsii.read_gds(inputmask)\n",
    "\n",
    "## Main cell \"wafer\"\n",
    "wafer = gp.Cell('WAFER')\n",
    "\n",
    "## Get the KID cell from nuKID.gds (Relocate the origin to its geo-center)\n",
    "KID412al=gl.extract('KID412.0').flatten()\n",
    "bb_KID412al=KID412al.get_bounding_box()\n",
    "dx=-(bb_KID412al[0][0]+bb_KID412al[1][0])/2\n",
    "dy=-(bb_KID412al[0][1]+bb_KID412al[1][1])/2\n",
    "KID412al_c=KID412al.copy('KID412.0c',translation=[dx,dy])\n",
    "wafer.add(gp.CellReference(KID412al_c,(0,0)))\n",
    "\n",
    "## Get the Nb Capacitor cell from nuKID.gds (Relocate the origin to its geo-center)\n",
    "capacitor412=gl.extract('CAPACITOR412.0').flatten()\n",
    "bb_capacitor412=capacitor412.get_bounding_box()\n",
    "dx=-(bb_capacitor412[0][0]+bb_capacitor412[1][0])/2\n",
    "dy=-(bb_capacitor412[0][1]+bb_capacitor412[1][1])/2\n",
    "capacitor412_c=capacitor412.copy('CAPACITOR412.0c',translation=[dx,dy])\n",
    "wafer.add(gp.CellReference(capacitor412_c,(0,206)))\n",
    "\n",
    "## Get the ground shield cell from nuKID.gds (Relocate the origin to its geo-center)\n",
    "groundsheild412=gl.extract('GROUND_SHIELD_UUTPI')\n",
    "bb_groundsheild412=groundsheild412.get_bounding_box()\n",
    "dx=-(bb_groundsheild412[0][0]+bb_groundsheild412[1][0])/2\n",
    "dy=-(bb_groundsheild412[0][1]+bb_groundsheild412[1][1])/2\n",
    "groundsheild412_c=groundsheild412.copy('GROUND_SHIELD_412c',translation=[dx,dy])\n",
    "wafer.add(gp.CellReference(groundsheild412_c,(0,40)))\n",
    "\n",
    "## Draw a straight CPW \n",
    "cpw = gp.Cell('CPW')\n",
    "Wc,Wg,G,L=20,100,10.75,5000\n",
    "ccpw=gp.Path(Wc, initial_point=(-L/2., 0), number_of_paths=1)\n",
    "ccpw.segment(L, \"+x\",layer=2)\n",
    "cpw.add(ccpw)\n",
    "gcpw=gp.Path(Wg, initial_point=(-L/2., 0), number_of_paths=2, distance=Wg+Wc+2*G)\n",
    "gcpw.segment(L, \"+x\",layer=2)\n",
    "cpw.add(gcpw)\n",
    "wafer.add(gp.CellReference(cpw,(0,-616.75)))\n",
    "\n",
    "## Save the file\n",
    "gp.write_gds('%s/KID412WithFeedLine.gds'%outdir, cells={'WAFER','KID412.0c','CAPACITOR412.0c','CPW','GROUND_SHIELD_412c'})\n",
    "\n",
    "## Clear the current library\n",
    "tools.ClearCurrentLib()\n"
   ]
  },
  {
   "cell_type": "code",
   "execution_count": 4,
   "id": "a3ecf19e",
   "metadata": {},
   "outputs": [
    {
     "name": "stderr",
     "output_type": "stream",
     "text": [
      "/var/folders/rn/l47h67f51194g8bjz60lqwlh0000gq/T/ipykernel_86332/3149112745.py:11: DeprecationWarning: [GDSPY] extract and the use of the global library is deprecated.\n",
      "  KID343=gl.extract('KID343.0').flatten()\n",
      "/var/folders/rn/l47h67f51194g8bjz60lqwlh0000gq/T/ipykernel_86332/3149112745.py:19: DeprecationWarning: [GDSPY] extract and the use of the global library is deprecated.\n",
      "  groundsheild343=gl.extract('GROUND_SHIELD_UUd8o')\n"
     ]
    },
    {
     "data": {
      "text/plain": [
       "True"
      ]
     },
     "execution_count": 4,
     "metadata": {},
     "output_type": "execute_result"
    }
   ],
   "source": [
    "# One KID (KID343.0 at center one)\n",
    "\n",
    "## Create a lib and load the original mask\n",
    "gdsii=gp.GdsLibrary()\n",
    "gl=gdsii.read_gds(inputmask)\n",
    "\n",
    "## Main cell \"wafer\"\n",
    "wafer = gp.Cell('WAFER')\n",
    "\n",
    "## Get the KID cell from nuKID.gds (Relocate the origin to its geo-center)\n",
    "KID343=gl.extract('KID343.0').flatten()\n",
    "bb_KID343=KID343.get_bounding_box()\n",
    "dx=-(bb_KID343[0][0]+bb_KID343[1][0])/2\n",
    "dy=-(bb_KID343[0][1]+bb_KID343[1][1])/2\n",
    "KID343_c=KID343.copy('KID343.0c',translation=[dx,dy])\n",
    "wafer.add(gp.CellReference(KID343_c,(0,0)))\n",
    "\n",
    "## Get the ground shield cell from nuKID.gds (Relocate the origin to its geo-center)\n",
    "groundsheild343=gl.extract('GROUND_SHIELD_UUd8o')\n",
    "bb_groundsheild343=groundsheild343.get_bounding_box()\n",
    "dx=-(bb_groundsheild343[0][0]+bb_groundsheild343[1][0])/2\n",
    "dy=-(bb_groundsheild343[0][1]+bb_groundsheild343[1][1])/2\n",
    "groundsheild343_c=groundsheild343.copy('GROUND_SHIELD_343c',translation=[dx,dy])\n",
    "wafer.add(gp.CellReference(groundsheild343_c,(0,40)))\n",
    "\n",
    "## Draw a straight CPW \n",
    "cpw = gp.Cell('CPW')\n",
    "Wc,Wg,G,L=20,100,10.75,5000\n",
    "ccpw=gp.Path(Wc, initial_point=(-L/2., 0), number_of_paths=1)\n",
    "ccpw.segment(L, \"+x\",layer=2)\n",
    "cpw.add(ccpw)\n",
    "gcpw=gp.Path(Wg, initial_point=(-L/2., 0), number_of_paths=2, distance=Wg+Wc+2*G)\n",
    "gcpw.segment(L, \"+x\",layer=2)\n",
    "cpw.add(gcpw)\n",
    "wafer.add(gp.CellReference(cpw,(0,-582.25)))\n",
    "\n",
    "## Save the file\n",
    "gp.write_gds('%s/KID343WithFeedLine.gds'%outdir, cells={'WAFER','KID343.0c','CPW','GROUND_SHIELD_343c'})\n",
    "\n",
    "## Clear the current library\n",
    "tools.ClearCurrentLib()"
   ]
  },
  {
   "cell_type": "code",
   "execution_count": 5,
   "id": "35eae813",
   "metadata": {},
   "outputs": [
    {
     "name": "stderr",
     "output_type": "stream",
     "text": [
      "/var/folders/rn/l47h67f51194g8bjz60lqwlh0000gq/T/ipykernel_86332/2901677447.py:11: DeprecationWarning: [GDSPY] extract and the use of the global library is deprecated.\n",
      "  KID349=gl.extract('KID349.0').flatten()\n",
      "/var/folders/rn/l47h67f51194g8bjz60lqwlh0000gq/T/ipykernel_86332/2901677447.py:19: DeprecationWarning: [GDSPY] extract and the use of the global library is deprecated.\n",
      "  groundsheild349=gl.extract('GROUND_SHIELD_UUdC4')\n"
     ]
    },
    {
     "data": {
      "text/plain": [
       "True"
      ]
     },
     "execution_count": 5,
     "metadata": {},
     "output_type": "execute_result"
    }
   ],
   "source": [
    "# One KID (KID349.0 at center one)\n",
    "\n",
    "## Create a lib and load the original mask\n",
    "gdsii=gp.GdsLibrary()\n",
    "gl=gdsii.read_gds(inputmask)\n",
    "\n",
    "## Main cell \"wafer\"\n",
    "wafer = gp.Cell('WAFER')\n",
    "\n",
    "## Get the KID cell from nuKID.gds (Relocate the origin to its geo-center)\n",
    "KID349=gl.extract('KID349.0').flatten()\n",
    "bb_KID349=KID349.get_bounding_box()\n",
    "dx=-(bb_KID349[0][0]+bb_KID349[1][0])/2\n",
    "dy=-(bb_KID349[0][1]+bb_KID349[1][1])/2\n",
    "KID349_c=KID349.copy('KID349.0c',translation=[dx,dy])\n",
    "wafer.add(gp.CellReference(KID349_c,(0,0)))\n",
    "\n",
    "## Get the ground shield cell from nuKID.gds (Relocate the origin to its geo-center)\n",
    "groundsheild349=gl.extract('GROUND_SHIELD_UUdC4')\n",
    "bb_groundsheild349=groundsheild349.get_bounding_box()\n",
    "dx=-(bb_groundsheild349[0][0]+bb_groundsheild349[1][0])/2\n",
    "dy=-(bb_groundsheild349[0][1]+bb_groundsheild349[1][1])/2\n",
    "groundsheild349_c=groundsheild349.copy('GROUND_SHIELD_349c',translation=[dx,dy])\n",
    "wafer.add(gp.CellReference(groundsheild349_c,(0,40)))\n",
    "\n",
    "## Draw a straight CPW \n",
    "cpw = gp.Cell('CPW')\n",
    "Wc,Wg,G,L=20,100,10.75,5000\n",
    "ccpw=gp.Path(Wc, initial_point=(-L/2., 0), number_of_paths=1)\n",
    "ccpw.segment(L, \"+x\",layer=2)\n",
    "cpw.add(ccpw)\n",
    "gcpw=gp.Path(Wg, initial_point=(-L/2., 0), number_of_paths=2, distance=Wg+Wc+2*G)\n",
    "gcpw.segment(L, \"+x\",layer=2)\n",
    "cpw.add(gcpw)\n",
    "wafer.add(gp.CellReference(cpw,(0,-585.25)))\n",
    "\n",
    "## Save the file\n",
    "gp.write_gds('%s/KID349WithFeedLine.gds'%outdir, cells={'WAFER','KID349.0c','CPW','GROUND_SHIELD_349c'})\n",
    "\n",
    "## Clear the current library\n",
    "tools.ClearCurrentLib()"
   ]
  },
  {
   "cell_type": "code",
   "execution_count": 6,
   "id": "2ebd1a95",
   "metadata": {},
   "outputs": [
    {
     "name": "stderr",
     "output_type": "stream",
     "text": [
      "/var/folders/rn/l47h67f51194g8bjz60lqwlh0000gq/T/ipykernel_86332/3848264908.py:11: DeprecationWarning: [GDSPY] extract and the use of the global library is deprecated.\n",
      "  KID355=gl.extract('KID355.0').flatten()\n",
      "/var/folders/rn/l47h67f51194g8bjz60lqwlh0000gq/T/ipykernel_86332/3848264908.py:19: DeprecationWarning: [GDSPY] extract and the use of the global library is deprecated.\n",
      "  groundsheild355=gl.extract('GROUND_SHIELD_UR6no')\n"
     ]
    },
    {
     "data": {
      "text/plain": [
       "True"
      ]
     },
     "execution_count": 6,
     "metadata": {},
     "output_type": "execute_result"
    }
   ],
   "source": [
    "# One KID (KID355.0 at center one)\n",
    "\n",
    "## Create a lib and load the original mask\n",
    "gdsii=gp.GdsLibrary()\n",
    "gl=gdsii.read_gds(inputmask)\n",
    "\n",
    "## Main cell \"wafer\"\n",
    "wafer = gp.Cell('WAFER')\n",
    "\n",
    "## Get the KID cell from nuKID.gds (Relocate the origin to its geo-center)\n",
    "KID355=gl.extract('KID355.0').flatten()\n",
    "bb_KID355=KID355.get_bounding_box()\n",
    "dx=-(bb_KID355[0][0]+bb_KID355[1][0])/2\n",
    "dy=-(bb_KID355[0][1]+bb_KID355[1][1])/2\n",
    "KID355_c=KID355.copy('KID355.0c',translation=[dx,dy])\n",
    "wafer.add(gp.CellReference(KID355_c,(0,0)))\n",
    "\n",
    "## Get the ground shield cell from nuKID.gds (Relocate the origin to its geo-center)\n",
    "groundsheild355=gl.extract('GROUND_SHIELD_UR6no')\n",
    "bb_groundsheild355=groundsheild355.get_bounding_box()\n",
    "dx=-(bb_groundsheild355[0][0]+bb_groundsheild355[1][0])/2\n",
    "dy=-(bb_groundsheild355[0][1]+bb_groundsheild355[1][1])/2\n",
    "groundsheild355_c=groundsheild355.copy('GROUND_SHIELD_355c',translation=[dx,dy])\n",
    "wafer.add(gp.CellReference(groundsheild355_c,(0,40)))\n",
    "\n",
    "## Draw a straight CPW \n",
    "cpw = gp.Cell('CPW')\n",
    "Wc,Wg,G,L=20,100,10.75,5000\n",
    "ccpw=gp.Path(Wc, initial_point=(-L/2., 0), number_of_paths=1)\n",
    "ccpw.segment(L, \"+x\",layer=2)\n",
    "cpw.add(ccpw)\n",
    "gcpw=gp.Path(Wg, initial_point=(-L/2., 0), number_of_paths=2, distance=Wg+Wc+2*G)\n",
    "gcpw.segment(L, \"+x\",layer=2)\n",
    "cpw.add(gcpw)\n",
    "wafer.add(gp.CellReference(cpw,(0,-588.25)))\n",
    "\n",
    "## Save the file\n",
    "gp.write_gds('%s/KID355WithFeedLine.gds'%outdir, cells={'WAFER','KID355.0c','CPW','GROUND_SHIELD_355c'})\n",
    "\n",
    "## Clear the current library\n",
    "tools.ClearCurrentLib()"
   ]
  },
  {
   "cell_type": "code",
   "execution_count": 7,
   "id": "73e9e315",
   "metadata": {},
   "outputs": [
    {
     "name": "stderr",
     "output_type": "stream",
     "text": [
      "/var/folders/rn/l47h67f51194g8bjz60lqwlh0000gq/T/ipykernel_86332/2740585109.py:11: DeprecationWarning: [GDSPY] extract and the use of the global library is deprecated.\n",
      "  KID361=gl.extract('KID361.0').flatten()\n",
      "/var/folders/rn/l47h67f51194g8bjz60lqwlh0000gq/T/ipykernel_86332/2740585109.py:19: DeprecationWarning: [GDSPY] extract and the use of the global library is deprecated.\n",
      "  groundsheild361=gl.extract('GROUND_SHIELD_URvs4')\n"
     ]
    },
    {
     "data": {
      "text/plain": [
       "True"
      ]
     },
     "execution_count": 7,
     "metadata": {},
     "output_type": "execute_result"
    }
   ],
   "source": [
    "# One KID (KID361.0 at center one)\n",
    "\n",
    "## Create a lib and load the original mask\n",
    "gdsii=gp.GdsLibrary()\n",
    "gl=gdsii.read_gds(inputmask)\n",
    "\n",
    "## Main cell \"wafer\"\n",
    "wafer = gp.Cell('WAFER')\n",
    "\n",
    "## Get the KID cell from nuKID.gds (Relocate the origin to its geo-center)\n",
    "KID361=gl.extract('KID361.0').flatten()\n",
    "bb_KID361=KID361.get_bounding_box()\n",
    "dx=-(bb_KID361[0][0]+bb_KID361[1][0])/2\n",
    "dy=-(bb_KID361[0][1]+bb_KID361[1][1])/2\n",
    "KID361_c=KID361.copy('KID361.0c',translation=[dx,dy])\n",
    "wafer.add(gp.CellReference(KID361_c,(0,0)))\n",
    "\n",
    "## Get the ground shield cell from nuKID.gds (Relocate the origin to its geo-center)\n",
    "groundsheild361=gl.extract('GROUND_SHIELD_URvs4')\n",
    "bb_groundsheild361=groundsheild361.get_bounding_box()\n",
    "dx=-(bb_groundsheild361[0][0]+bb_groundsheild361[1][0])/2\n",
    "dy=-(bb_groundsheild361[0][1]+bb_groundsheild361[1][1])/2\n",
    "groundsheild361_c=groundsheild361.copy('GROUND_SHIELD_361c',translation=[dx,dy])\n",
    "wafer.add(gp.CellReference(groundsheild361_c,(0,40)))\n",
    "\n",
    "## Draw a straight CPW \n",
    "cpw = gp.Cell('CPW')\n",
    "Wc,Wg,G,L=20,100,10.75,5000\n",
    "ccpw=gp.Path(Wc, initial_point=(-L/2., 0), number_of_paths=1)\n",
    "ccpw.segment(L, \"+x\",layer=2)\n",
    "cpw.add(ccpw)\n",
    "gcpw=gp.Path(Wg, initial_point=(-L/2., 0), number_of_paths=2, distance=Wg+Wc+2*G)\n",
    "gcpw.segment(L, \"+x\",layer=2)\n",
    "cpw.add(gcpw)\n",
    "wafer.add(gp.CellReference(cpw,(0,-591.25)))\n",
    "\n",
    "## Save the file\n",
    "gp.write_gds('%s/KID361WithFeedLine.gds'%outdir, cells={'WAFER','KID361.0c','CPW','GROUND_SHIELD_361c'})\n",
    "\n",
    "## Clear the current library\n",
    "tools.ClearCurrentLib()"
   ]
  },
  {
   "cell_type": "code",
   "execution_count": 8,
   "id": "5da6eb00",
   "metadata": {},
   "outputs": [
    {
     "name": "stdout",
     "output_type": "stream",
     "text": [
      "Output dir of CPW segments: /Users/bicep/Documents/DeviceDesign/MKID_fab/CITdesign/SUmodified/decomposed/CPWs\n"
     ]
    }
   ],
   "source": [
    "# CPW segment\n",
    "\n",
    "if not os.path.exists('%s/CPWs'%outdir):\n",
    "    os.makedirs('%s/CPWs'%outdir)\n",
    "print('Output dir of CPW segments: %s/CPWs'%outdir)\n",
    "\n",
    "\n",
    "## Draw straights CPWs \n",
    "Wc,Wg,G=20,100,10.75\n",
    "\n",
    "for L in [200,1000,2000]:\n",
    "    \n",
    "    cpw = gp.Cell('CPW')\n",
    "    ccpw=gp.Path(Wc, initial_point=(-L/2., 0), number_of_paths=1)\n",
    "    ccpw.segment(L, \"+x\",layer=2)\n",
    "    cpw.add(ccpw)\n",
    "    gcpw=gp.Path(Wg, initial_point=(-L/2., 0), number_of_paths=2, distance=Wg+Wc+2*G)\n",
    "    gcpw.segment(L, \"+x\",layer=2)\n",
    "    cpw.add(gcpw)\n",
    "    wafer.add(gp.CellReference(cpw,(0,0)))\n",
    "    \n",
    "    gp.write_gds('%s/CPWs/cpw_s_%d.gds'%(outdir,L), cells={'CPW'})\n",
    "    \n",
    "    tools.ClearCurrentLib()"
   ]
  },
  {
   "cell_type": "code",
   "execution_count": null,
   "id": "273e4665",
   "metadata": {},
   "outputs": [],
   "source": []
  }
 ],
 "metadata": {
  "kernelspec": {
   "display_name": "Python 3 (ipykernel)",
   "language": "python",
   "name": "python3"
  },
  "language_info": {
   "codemirror_mode": {
    "name": "ipython",
    "version": 3
   },
   "file_extension": ".py",
   "mimetype": "text/x-python",
   "name": "python",
   "nbconvert_exporter": "python",
   "pygments_lexer": "ipython3",
   "version": "3.9.12"
  }
 },
 "nbformat": 4,
 "nbformat_minor": 5
}
