{
 "cells": [
  {
   "cell_type": "code",
   "execution_count": 1,
   "id": "3f243092",
   "metadata": {},
   "outputs": [],
   "source": [
    "import os,sys\n",
    "import numpy as np\n",
    "import gdspy as gp\n",
    "import gdstools as tools\n",
    "\n",
    "# When work with mask, make sure you put the cell center at it's box's geometry center, or put it somewhere reasonable and easy to remember. \n",
    "# The location of an object is controlled by `wafer.add(gp.CellReference(<cell name>,(X,Y)))`\n",
    "# Try to keep all geometry in the same layer in one sub-cell. Don't make the whole structure too messy."
   ]
  },
  {
   "cell_type": "code",
   "execution_count": 2,
   "id": "0542699b",
   "metadata": {},
   "outputs": [
    {
     "name": "stdout",
     "output_type": "stream",
     "text": [
      "Input file: /Users/bicep/Documents/DeviceDesign/MKID_fab/CITdesign/nuKID.gds\n",
      "Output dir: /Users/bicep/Documents/DeviceDesign/MKID_fab/CITdesign/SUmodified\n"
     ]
    }
   ],
   "source": [
    "# set up input/output paths\n",
    "\n",
    "inputmask = '/Users/bicep/Documents/DeviceDesign/MKID_fab/CITdesign/nuKID.gds'\n",
    "print('Input file: %s'%inputmask)    \n",
    "\n",
    "outdir = '/Users/bicep/Documents/DeviceDesign/MKID_fab/CITdesign/SUmodified'\n",
    "if not os.path.exists(outdir):\n",
    "    os.makedirs(outdir)\n",
    "print('Output dir: %s'%outdir)\n"
   ]
  },
  {
   "cell_type": "code",
   "execution_count": 3,
   "id": "52f24c29",
   "metadata": {},
   "outputs": [
    {
     "name": "stderr",
     "output_type": "stream",
     "text": [
      "/var/folders/rn/l47h67f51194g8bjz60lqwlh0000gq/T/ipykernel_90129/4275455361.py:9: DeprecationWarning: [GDSPY] extract and the use of the global library is deprecated.\n",
      "  KID412al=gl.extract('KID412.0').flatten()\n",
      "/var/folders/rn/l47h67f51194g8bjz60lqwlh0000gq/T/ipykernel_90129/4275455361.py:17: DeprecationWarning: [GDSPY] extract and the use of the global library is deprecated.\n",
      "  capacitor412=gl.extract('CAPACITOR412.0').flatten()\n",
      "/var/folders/rn/l47h67f51194g8bjz60lqwlh0000gq/T/ipykernel_90129/4275455361.py:25: DeprecationWarning: [GDSPY] extract and the use of the global library is deprecated.\n",
      "  groundsheild412=gl.extract('GROUND_SHIELD_UUTPI')\n"
     ]
    },
    {
     "data": {
      "text/plain": [
       "'\\n## Draw a straight CPW \\ncpw = gp.Cell(\\'CPW\\')\\nWc,Wg,G,L=20,100,10.75,5000\\nccpw=gp.Path(Wc, initial_point=(-L/2., 0), number_of_paths=1)\\nccpw.segment(L, \"+x\",layer=2)\\ncpw.add(ccpw)\\ngcpw=gp.Path(Wg, initial_point=(-L/2., 0), number_of_paths=2, distance=Wg+Wc+2*G)\\ngcpw.segment(L, \"+x\",layer=2)\\ncpw.add(gcpw)\\nwafer.add(gp.CellReference(cpw,(0,-616.75)))\\n\\n## Save the file\\ngp.write_gds(\\'%s/KID412WithFeedLine.gds\\'%outdir, cells={\\'WAFER\\',\\'KID412.0c\\',\\'CAPACITOR412.0c\\',\\'CPW\\',\\'GROUND_SHIELD_412c\\'})\\n\\n## Clear the current library\\ntools.ClearCurrentLib()\\n'"
      ]
     },
     "execution_count": 3,
     "metadata": {},
     "output_type": "execute_result"
    }
   ],
   "source": [
    "# The Nb/Al KID (KID412.0 at center one)\n",
    "\n",
    "## Create a lib and load the original mask\n",
    "gdsii=gp.GdsLibrary()\n",
    "gl=gdsii.read_gds(inputmask)\n",
    "kid412 = gp.Cell('KID412')\n",
    "\n",
    "## Get the KID cell from nuKID.gds (Relocate the origin to its geo-center)\n",
    "KID412al=gl.extract('KID412.0').flatten()\n",
    "bb_KID412al=KID412al.get_bounding_box()\n",
    "dx=-(bb_KID412al[0][0]+bb_KID412al[1][0])/2\n",
    "dy=-(bb_KID412al[0][1]+bb_KID412al[1][1])/2\n",
    "KID412al_c=KID412al.copy('KID412.0c',translation=[dx,dy])\n",
    "kid412.add(gp.CellReference(KID412al_c,(0,0)))\n",
    "\n",
    "## Get the Nb Capacitor cell from nuKID.gds (Relocate the origin to its geo-center)\n",
    "capacitor412=gl.extract('CAPACITOR412.0').flatten()\n",
    "bb_capacitor412=capacitor412.get_bounding_box()\n",
    "dx=-(bb_capacitor412[0][0]+bb_capacitor412[1][0])/2\n",
    "dy=-(bb_capacitor412[0][1]+bb_capacitor412[1][1])/2\n",
    "capacitor412_c=capacitor412.copy('CAPACITOR412.0c',translation=[dx,dy])\n",
    "kid412.add(gp.CellReference(capacitor412_c,(0,206)))\n",
    "\n",
    "## Get the ground shield cell from nuKID.gds (Relocate the origin to its geo-center)\n",
    "groundsheild412=gl.extract('GROUND_SHIELD_UUTPI')\n",
    "bb_groundsheild412=groundsheild412.get_bounding_box()\n",
    "dx=-(bb_groundsheild412[0][0]+bb_groundsheild412[1][0])/2\n",
    "dy=-(bb_groundsheild412[0][1]+bb_groundsheild412[1][1])/2\n",
    "groundsheild412_c=groundsheild412.copy('GROUND_SHIELD_412c',translation=[dx,dy])\n",
    "kid412.add(gp.CellReference(groundsheild412_c,(0,40)))\n",
    "\n",
    "\"\"\"\n",
    "## Draw a straight CPW \n",
    "cpw = gp.Cell('CPW')\n",
    "Wc,Wg,G,L=20,100,10.75,5000\n",
    "ccpw=gp.Path(Wc, initial_point=(-L/2., 0), number_of_paths=1)\n",
    "ccpw.segment(L, \"+x\",layer=2)\n",
    "cpw.add(ccpw)\n",
    "gcpw=gp.Path(Wg, initial_point=(-L/2., 0), number_of_paths=2, distance=Wg+Wc+2*G)\n",
    "gcpw.segment(L, \"+x\",layer=2)\n",
    "cpw.add(gcpw)\n",
    "wafer.add(gp.CellReference(cpw,(0,-616.75)))\n",
    "\n",
    "## Save the file\n",
    "gp.write_gds('%s/KID412WithFeedLine.gds'%outdir, cells={'WAFER','KID412.0c','CAPACITOR412.0c','CPW','GROUND_SHIELD_412c'})\n",
    "\n",
    "## Clear the current library\n",
    "tools.ClearCurrentLib()\n",
    "\"\"\"\n"
   ]
  },
  {
   "cell_type": "code",
   "execution_count": 4,
   "id": "a3ecf19e",
   "metadata": {},
   "outputs": [
    {
     "name": "stderr",
     "output_type": "stream",
     "text": [
      "/var/folders/rn/l47h67f51194g8bjz60lqwlh0000gq/T/ipykernel_90129/2798103923.py:6: DeprecationWarning: [GDSPY] extract and the use of the global library is deprecated.\n",
      "  KID343=gl.extract('KID343.0').flatten()\n",
      "/var/folders/rn/l47h67f51194g8bjz60lqwlh0000gq/T/ipykernel_90129/2798103923.py:13: DeprecationWarning: [GDSPY] extract and the use of the global library is deprecated.\n",
      "  groundsheild343=gl.extract('GROUND_SHIELD_UUd8o')\n",
      "/var/folders/rn/l47h67f51194g8bjz60lqwlh0000gq/T/ipykernel_90129/2798103923.py:25: DeprecationWarning: [GDSPY] extract and the use of the global library is deprecated.\n",
      "  KID349=gl.extract('KID349.0').flatten()\n",
      "/var/folders/rn/l47h67f51194g8bjz60lqwlh0000gq/T/ipykernel_90129/2798103923.py:32: DeprecationWarning: [GDSPY] extract and the use of the global library is deprecated.\n",
      "  groundsheild349=gl.extract('GROUND_SHIELD_UUdC4')\n",
      "/var/folders/rn/l47h67f51194g8bjz60lqwlh0000gq/T/ipykernel_90129/2798103923.py:44: DeprecationWarning: [GDSPY] extract and the use of the global library is deprecated.\n",
      "  KID355=gl.extract('KID355.0').flatten()\n",
      "/var/folders/rn/l47h67f51194g8bjz60lqwlh0000gq/T/ipykernel_90129/2798103923.py:51: DeprecationWarning: [GDSPY] extract and the use of the global library is deprecated.\n",
      "  groundsheild355=gl.extract('GROUND_SHIELD_UR6no')\n",
      "/var/folders/rn/l47h67f51194g8bjz60lqwlh0000gq/T/ipykernel_90129/2798103923.py:62: DeprecationWarning: [GDSPY] extract and the use of the global library is deprecated.\n",
      "  KID361=gl.extract('KID361.0').flatten()\n",
      "/var/folders/rn/l47h67f51194g8bjz60lqwlh0000gq/T/ipykernel_90129/2798103923.py:69: DeprecationWarning: [GDSPY] extract and the use of the global library is deprecated.\n",
      "  groundsheild361=gl.extract('GROUND_SHIELD_URvs4')\n"
     ]
    },
    {
     "data": {
      "text/plain": [
       "<gdspy.library.Cell at 0x7ff41af4e460>"
      ]
     },
     "execution_count": 4,
     "metadata": {},
     "output_type": "execute_result"
    }
   ],
   "source": [
    "## KID cell \n",
    "## Get the KID cell from nuKID.gds (Relocate the origin to its geo-center)\n",
    "## Get the ground shield cell from nuKID.gds (Relocate the origin to its geo-center)\n",
    "kid343 = gp.Cell('KID343')\n",
    "\n",
    "KID343=gl.extract('KID343.0').flatten()\n",
    "bb_KID343=KID343.get_bounding_box()\n",
    "dx=-(bb_KID343[0][0]+bb_KID343[1][0])/2\n",
    "dy=-(bb_KID343[0][1]+bb_KID343[1][1])/2\n",
    "KID343_c=KID343.copy('KID343.0c',translation=[dx,dy])\n",
    "kid343.add(gp.CellReference(KID343_c,(0,0)))\n",
    "\n",
    "groundsheild343=gl.extract('GROUND_SHIELD_UUd8o')\n",
    "bb_groundsheild343=groundsheild343.get_bounding_box()\n",
    "dx=-(bb_groundsheild343[0][0]+bb_groundsheild343[1][0])/2\n",
    "dy=-(bb_groundsheild343[0][1]+bb_groundsheild343[1][1])/2\n",
    "groundsheild343_c=groundsheild343.copy('GROUND_SHIELD_343c',translation=[dx,dy])\n",
    "kid343.add(gp.CellReference(groundsheild343_c,(0,40)))\n",
    "\n",
    "## KID cell \n",
    "## Get the KID cell from nuKID.gds (Relocate the origin to its geo-center)\n",
    "## Get the ground shield cell from nuKID.gds (Relocate the origin to its geo-center)\n",
    "kid349 = gp.Cell('KID349')\n",
    "\n",
    "KID349=gl.extract('KID349.0').flatten()\n",
    "bb_KID349=KID349.get_bounding_box()\n",
    "dx=-(bb_KID349[0][0]+bb_KID349[1][0])/2\n",
    "dy=-(bb_KID349[0][1]+bb_KID349[1][1])/2\n",
    "KID349_c=KID349.copy('KID349.0c',translation=[dx,dy])\n",
    "kid349.add(gp.CellReference(KID349_c,(0,0+3)))\n",
    "\n",
    "groundsheild349=gl.extract('GROUND_SHIELD_UUdC4')\n",
    "bb_groundsheild349=groundsheild349.get_bounding_box()\n",
    "dx=-(bb_groundsheild349[0][0]+bb_groundsheild349[1][0])/2\n",
    "dy=-(bb_groundsheild349[0][1]+bb_groundsheild349[1][1])/2\n",
    "groundsheild349_c=groundsheild349.copy('GROUND_SHIELD_349c',translation=[dx,dy])\n",
    "kid349.add(gp.CellReference(groundsheild349_c,(0,40+3)))\n",
    "\n",
    "## KID cell \n",
    "## Get the KID cell from nuKID.gds (Relocate the origin to its geo-center)\n",
    "## Get the ground shield cell from nuKID.gds (Relocate the origin to its geo-center)\n",
    "kid355 = gp.Cell('KID355')\n",
    "\n",
    "KID355=gl.extract('KID355.0').flatten()\n",
    "bb_KID355=KID355.get_bounding_box()\n",
    "dx=-(bb_KID355[0][0]+bb_KID355[1][0])/2\n",
    "dy=-(bb_KID355[0][1]+bb_KID355[1][1])/2\n",
    "KID355_c=KID355.copy('KID355.0c',translation=[dx,dy])\n",
    "kid355.add(gp.CellReference(KID355_c,(0,0)))\n",
    "\n",
    "groundsheild355=gl.extract('GROUND_SHIELD_UR6no')\n",
    "bb_groundsheild355=groundsheild355.get_bounding_box()\n",
    "dx=-(bb_groundsheild355[0][0]+bb_groundsheild355[1][0])/2\n",
    "dy=-(bb_groundsheild355[0][1]+bb_groundsheild355[1][1])/2\n",
    "groundsheild355_c=groundsheild355.copy('GROUND_SHIELD_355c',translation=[dx,dy])\n",
    "kid355.add(gp.CellReference(groundsheild355_c,(0,40)))\n",
    "\n",
    "## KID cell \n",
    "## Get the KID cell from nuKID.gds (Relocate the origin to its geo-center)\n",
    "kid361 = gp.Cell('KID361')\n",
    "\n",
    "KID361=gl.extract('KID361.0').flatten()\n",
    "bb_KID361=KID361.get_bounding_box()\n",
    "dx=-(bb_KID361[0][0]+bb_KID361[1][0])/2\n",
    "dy=-(bb_KID361[0][1]+bb_KID361[1][1])/2\n",
    "KID361_c=KID361.copy('KID361.0c',translation=[dx,dy])\n",
    "kid361.add(gp.CellReference(KID361_c,(0,0+3)))\n",
    "\n",
    "groundsheild361=gl.extract('GROUND_SHIELD_URvs4')\n",
    "bb_groundsheild361=groundsheild361.get_bounding_box()\n",
    "dx=-(bb_groundsheild361[0][0]+bb_groundsheild361[1][0])/2\n",
    "dy=-(bb_groundsheild361[0][1]+bb_groundsheild361[1][1])/2\n",
    "groundsheild361_c=groundsheild361.copy('GROUND_SHIELD_361c',translation=[dx,dy])\n",
    "kid361.add(gp.CellReference(groundsheild361_c,(0,40+3)))\n"
   ]
  },
  {
   "cell_type": "code",
   "execution_count": 5,
   "id": "387774c3",
   "metadata": {},
   "outputs": [
    {
     "name": "stderr",
     "output_type": "stream",
     "text": [
      "/Users/bicep/opt/anaconda3/lib/python3.9/site-packages/gdspy/polygon.py:1588: UserWarning: [GDSPY] Path arc with width larger than radius created: possible self-intersecting polygon.\n",
      "  self.arc(\n"
     ]
    },
    {
     "data": {
      "text/plain": [
       "<gdspy.library.Cell at 0x7ff418ee1c40>"
      ]
     },
     "execution_count": 5,
     "metadata": {},
     "output_type": "execute_result"
    }
   ],
   "source": [
    "## Draw a  CPW \n",
    "cpw = gp.Cell('CPW')\n",
    "Wc,Wg,G=20,100,10.75\n",
    "#ccpw=gp.Path(Wc, initial_point=(-4179.25, 2038.5-Wg-G-Wc/2.), number_of_paths=1)\n",
    "ccpw=gp.Path(Wc, initial_point=(0, 4000), number_of_paths=1)\n",
    "ccpw.segment(50, \"-y\",layer=2)\n",
    "ccpw.turn(241.5/2, \"r\",layer=2)\n",
    "ccpw.segment(8358.5/2-241.5/2., \"-x\",layer=2)\n",
    "ccpw.turn(241.5/2, \"l\",layer=2)\n",
    "ccpw.segment(1670, \"-y\",layer=2)\n",
    "ccpw.turn(241.5/2, \"l\",layer=2)\n",
    "ccpw.segment(8358.5, \"+x\",layer=2)\n",
    "ccpw.turn(241.5/2, \"r\",layer=2)\n",
    "ccpw.segment(2284.5-241.5, \"-y\",layer=2)\n",
    "ccpw.turn(241.5/2, \"r\",layer=2)\n",
    "ccpw.segment(8358.5, \"-x\",layer=2)\n",
    "ccpw.turn(241.5/2, \"l\",layer=2)\n",
    "ccpw.segment(2221.5-241.5, \"-y\",layer=2)\n",
    "ccpw.turn(241.5/2, \"l\",layer=2)\n",
    "ccpw.segment(8358.5, \"+x\",layer=2)\n",
    "ccpw.turn(241.5/2, \"r\",layer=2)\n",
    "ccpw.segment(1000, \"-y\",layer=2)\n",
    "ccpw.turn(241.5/2, \"r\",layer=2)\n",
    "ccpw.segment(8358.5/2-241.5/2., \"-x\",layer=2)\n",
    "ccpw.turn(241.5/2, \"l\",layer=2)\n",
    "ccpw.segment(50, \"-y\",layer=2)\n",
    "cpw.add(ccpw)\n",
    "\n",
    "\n",
    "#gcpw=gp.Path(Wg, initial_point=(-4179.25, 2038.5-Wg-G-Wc/2.), number_of_paths=2, distance=Wg+Wc+2*G)\n",
    "gcpw=gp.Path(Wg, initial_point=(0, 4000), number_of_paths=2, distance=Wg+Wc+2*G)\n",
    "gcpw.segment(50, \"-y\",layer=2)\n",
    "gcpw.turn(241.5/2, \"r\",layer=2)\n",
    "gcpw.segment(8358.5/2-241.5/2., \"-x\",layer=2)\n",
    "gcpw.turn(241.5/2, \"l\",layer=2)\n",
    "gcpw.segment(1670, \"-y\",layer=2)\n",
    "gcpw.turn(241.5/2, \"l\",layer=2)\n",
    "gcpw.segment(8358.5, \"+x\",layer=2)\n",
    "gcpw.turn(241.5/2, \"r\",layer=2)\n",
    "gcpw.segment(2284.5-241.5, \"-y\",layer=2)\n",
    "gcpw.turn(241.5/2, \"r\",layer=2)\n",
    "gcpw.segment(8358.5, \"-x\",layer=2)\n",
    "gcpw.turn(241.5/2, \"l\",layer=2)\n",
    "gcpw.segment(2221.5-241.5, \"-y\",layer=2)\n",
    "gcpw.turn(241.5/2, \"l\",layer=2)\n",
    "gcpw.segment(8358.5, \"+x\",layer=2)\n",
    "gcpw.turn(241.5/2, \"r\",layer=2)\n",
    "gcpw.segment(1000, \"-y\",layer=2)\n",
    "gcpw.turn(241.5/2, \"r\",layer=2)\n",
    "gcpw.segment(8358.5/2-241.5/2., \"-x\",layer=2)\n",
    "gcpw.turn(241.5/2, \"l\",layer=2)\n",
    "gcpw.segment(50, \"-y\",layer=2)\n",
    "cpw.add(gcpw)\n",
    "\n"
   ]
  },
  {
   "cell_type": "code",
   "execution_count": 6,
   "id": "c1e21d7f",
   "metadata": {},
   "outputs": [
    {
     "data": {
      "text/plain": [
       "<gdspy.library.Cell at 0x7ff41af50d60>"
      ]
     },
     "execution_count": 6,
     "metadata": {},
     "output_type": "execute_result"
    }
   ],
   "source": [
    "## Draw the bondpad\n",
    "bondpad = gp.Cell('BONDPAD')\n",
    "\n",
    "cbp1 = gp.Path(Wc, initial_point=(0,-500), number_of_paths=1)\n",
    "cbp1.segment(100, \"+y\", layer=2)\n",
    "cbp2 = gp.Path(Wc, initial_point=(0,-500), number_of_paths=1)\n",
    "cbp2.segment(100, \"+y\", layer=2)\n",
    "cbp2.segment(400, \"+y\", final_width=Wc*10, layer=2)\n",
    "cbp2.segment(200, \"+y\", final_width=Wc*10, layer=2)\n",
    "cbp2j = gp.boolean(cbp2, None, 'or', layer=2)\n",
    "cbp2j.fillet(70)\n",
    "cbp = gp.boolean(cbp1,cbp2j, 'or', layer=2)\n",
    "\n",
    "gbp1 = gp.Path(Wg*2+Wc+2*G, initial_point=(0,-500), number_of_paths=1)\n",
    "gbp1.segment(100, \"+y\", layer=2)\n",
    "gbp2 = gp.Path(2*Wg+Wc+2*G, initial_point=(0,-500), number_of_paths=1)\n",
    "gbp2.segment(100, \"+y\", layer=2)\n",
    "gbp2.segment(400, \"+y\", final_width=2*Wg*2+Wc*10+2*G*10, layer=2)\n",
    "gbp2.segment(200+Wg*2+G*10, \"+y\", layer=2)\n",
    "gbp2j = gp.boolean(gbp2, None, 'or', layer=2)\n",
    "gbp2j.fillet(70)\n",
    "gbp_all = gp.boolean(gbp1,gbp2j, 'or', layer=2)\n",
    "\n",
    "gap1 = gp.Path(Wc+2*G, initial_point=(0,-500), number_of_paths=1)\n",
    "gap1.segment(100, \"+y\", layer=2)\n",
    "gap2 = gp.Path(Wc+2*G, initial_point=(0,-500), number_of_paths=1)\n",
    "gap2.segment(100, \"+y\", layer=2)\n",
    "gap2.segment(400, \"+y\", final_width=Wc*10+2*G*10, layer=2)\n",
    "gap2.segment(200+G*10, \"+y\", layer=2)\n",
    "gap2j = gp.boolean(gap2, None, 'or', layer=2)\n",
    "gap2j.fillet(70)\n",
    "gap = gp.boolean(gap1,gap2j, 'or', layer=2)\n",
    "#gbp.segment(400, \"+y\", final_width=Wg*2, final_distance=Wg*2+Wc*10+2*G*10, layer=2)\n",
    "\n",
    "gbp = gp.boolean(gbp_all,gap, 'not', layer=2)\n",
    "\n",
    "bondpad.add(cbp)\n",
    "bondpad.add(gbp)\n",
    "#bondpad.add(cbp_end)"
   ]
  },
  {
   "cell_type": "code",
   "execution_count": 7,
   "id": "5da6eb00",
   "metadata": {},
   "outputs": [],
   "source": [
    "wafer = gp.Cell('WAFER')\n",
    "\n",
    "boundry = gp.Cell('BOUNDARY')\n",
    "square1x1 = gp.Rectangle((5000, 5000), (-5000, -5000), layer=10)\n",
    "boundry.add(square1x1)\n",
    "wafer.add(gp.CellReference(boundry,(0,0)))\n",
    "wafer.add(gp.CellReference(cpw,(0,0)))\n",
    "wafer.add(gp.CellReference(bondpad,(0,4500-17.5)))\n",
    "wafer.add(gp.CellReference(bondpad,(0,-4500+17.5),rotation=180))\n",
    "# five Kids\n",
    "# 412: 0,0\n",
    "# 343: -3500,3500\n",
    "# 349: 3500,3500\n",
    "# 355: -3500,-3500\n",
    "# 361: 3500,-3500\n",
    "\n",
    "wafer.add(gp.CellReference(kid343,(-2500,2500)))\n",
    "wafer.add(gp.CellReference(kid349,(2500,2500)))\n",
    "wafer.add(gp.CellReference(kid355,(-2500,-2000)))\n",
    "wafer.add(gp.CellReference(kid361,(2500,-2000)))\n",
    "wafer.add(gp.CellReference(kid412,(0,250)))\n",
    "\n",
    "## Save the file\n",
    "gp.write_gds('%s/nukid_shrink10000.gds'%outdir, cells=sorted(tools.GetSubcellNames(wafer)))\n",
    "#tools.ClearCurrentLib()"
   ]
  },
  {
   "cell_type": "code",
   "execution_count": 8,
   "id": "273e4665",
   "metadata": {},
   "outputs": [],
   "source": [
    "#tools.ClearCurrentLib()"
   ]
  },
  {
   "cell_type": "code",
   "execution_count": 9,
   "id": "f72368f5",
   "metadata": {},
   "outputs": [
    {
     "data": {
      "text/plain": [
       "['BONDPAD',\n",
       " 'BOUNDARY',\n",
       " 'CAPACITOR412.0c',\n",
       " 'CPW',\n",
       " 'GROUND_SHIELD_343c',\n",
       " 'GROUND_SHIELD_349c',\n",
       " 'GROUND_SHIELD_355c',\n",
       " 'GROUND_SHIELD_361c',\n",
       " 'GROUND_SHIELD_412c',\n",
       " 'KID343',\n",
       " 'KID343.0c',\n",
       " 'KID349',\n",
       " 'KID349.0c',\n",
       " 'KID355',\n",
       " 'KID355.0c',\n",
       " 'KID361',\n",
       " 'KID361.0c',\n",
       " 'KID412',\n",
       " 'KID412.0c',\n",
       " 'WAFER']"
      ]
     },
     "execution_count": 9,
     "metadata": {},
     "output_type": "execute_result"
    }
   ],
   "source": [
    "wafer.references[0].ref_cell\n",
    "sorted(tools.GetSubcellNames(wafer))"
   ]
  },
  {
   "cell_type": "code",
   "execution_count": null,
   "id": "232ee87e",
   "metadata": {},
   "outputs": [],
   "source": []
  },
  {
   "cell_type": "code",
   "execution_count": null,
   "id": "842195aa",
   "metadata": {},
   "outputs": [],
   "source": []
  },
  {
   "cell_type": "code",
   "execution_count": null,
   "id": "218bf33d",
   "metadata": {},
   "outputs": [],
   "source": []
  }
 ],
 "metadata": {
  "kernelspec": {
   "display_name": "Python 3 (ipykernel)",
   "language": "python",
   "name": "python3"
  },
  "language_info": {
   "codemirror_mode": {
    "name": "ipython",
    "version": 3
   },
   "file_extension": ".py",
   "mimetype": "text/x-python",
   "name": "python",
   "nbconvert_exporter": "python",
   "pygments_lexer": "ipython3",
   "version": "3.9.12"
  }
 },
 "nbformat": 4,
 "nbformat_minor": 5
}
